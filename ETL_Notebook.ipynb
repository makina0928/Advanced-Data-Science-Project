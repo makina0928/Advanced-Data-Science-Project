{
 "cells": [
  {
   "cell_type": "markdown",
   "id": "db15801a-9dc6-4444-9a6b-9a64cef325c2",
   "metadata": {
    "tags": []
   },
   "source": [
    "# Introduction "
   ]
  },
  {
   "cell_type": "code",
   "execution_count": null,
   "id": "e7ad708b-bb1d-44b9-941a-7ddf57bf567e",
   "metadata": {},
   "outputs": [],
   "source": []
  }
 ],
 "metadata": {
  "kernelspec": {
   "display_name": "Python 3 (ipykernel)",
   "language": "python",
   "name": "python3"
  },
  "language_info": {
   "codemirror_mode": {
    "name": "ipython",
    "version": 3
   },
   "file_extension": ".py",
   "mimetype": "text/x-python",
   "name": "python",
   "nbconvert_exporter": "python",
   "pygments_lexer": "ipython3",
   "version": "3.11.5"
  }
 },
 "nbformat": 4,
 "nbformat_minor": 5
}
